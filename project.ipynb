{
 "cells": [
  {
   "cell_type": "markdown",
   "id": "e7faff0f-2118-4128-bfee-92784c5b08f9",
   "metadata": {},
   "source": [
    "\n",
    "<h2>Predicting house prices in Georgia</h2>"
   ]
  },
  {
   "cell_type": "markdown",
   "id": "438a1cf1-420e-4c92-ac4e-01010e5520b6",
   "metadata": {},
   "source": [
    "<h3>Importing libraries and dataset</h3>"
   ]
  },
  {
   "cell_type": "markdown",
   "id": "77d3f843-94bc-4d26-a2c5-fa13832e34fa",
   "metadata": {},
   "source": [
    "<h4>Importing dataset</h4>\n"
   ]
  },
  {
   "cell_type": "code",
   "execution_count": 16,
   "id": "76d768e2-3a4a-4f60-80fa-52905066c8b2",
   "metadata": {},
   "outputs": [],
   "source": [
    "import numpy as np\n",
    "import pandas as pd\n",
    "import seaborn as sns\n",
    "import matplotlib.pyplot as plt\n",
    "from xgboost import XGBRegressor\n",
    "from sklearn.metrics import r2_score, mean_squared_error\n",
    "from sklearn.linear_model import Lasso, Ridge\n",
    "from sklearn.preprocessing import LabelEncoder, StandardScaler\n",
    "from sklearn.model_selection import GridSearchCV, train_test_split, RandomizedSearchCV\n",
    "from sklearn.ensemble import RandomForestRegressor\n",
    "\n"
   ]
  },
  {
   "cell_type": "code",
   "execution_count": 15,
   "id": "571b3fac-0585-443d-a763-d2b8b229a7a7",
   "metadata": {},
   "outputs": [
    {
     "name": "stdout",
     "output_type": "stream",
     "text": [
      "Collecting xgboost\n",
      "  Using cached xgboost-2.1.1-py3-none-manylinux_2_28_x86_64.whl.metadata (2.1 kB)\n",
      "Requirement already satisfied: numpy in /home/patrick/anaconda3/lib/python3.12/site-packages (from xgboost) (1.26.4)\n",
      "Collecting nvidia-nccl-cu12 (from xgboost)\n",
      "  Using cached nvidia_nccl_cu12-2.23.4-py3-none-manylinux2014_x86_64.whl.metadata (1.8 kB)\n",
      "Requirement already satisfied: scipy in /home/patrick/anaconda3/lib/python3.12/site-packages (from xgboost) (1.13.1)\n",
      "Using cached xgboost-2.1.1-py3-none-manylinux_2_28_x86_64.whl (153.9 MB)\n",
      "Using cached nvidia_nccl_cu12-2.23.4-py3-none-manylinux2014_x86_64.whl (199.0 MB)\n",
      "Installing collected packages: nvidia-nccl-cu12, xgboost\n",
      "Successfully installed nvidia-nccl-cu12-2.23.4 xgboost-2.1.1\n"
     ]
    }
   ],
   "source": []
  },
  {
   "cell_type": "code",
   "execution_count": 2,
   "id": "d1ea1481-7a87-441e-a67c-0a2179915fea",
   "metadata": {},
   "outputs": [
    {
     "data": {
      "text/html": [
       "<div>\n",
       "<style scoped>\n",
       "    .dataframe tbody tr th:only-of-type {\n",
       "        vertical-align: middle;\n",
       "    }\n",
       "\n",
       "    .dataframe tbody tr th {\n",
       "        vertical-align: top;\n",
       "    }\n",
       "\n",
       "    .dataframe thead th {\n",
       "        text-align: right;\n",
       "    }\n",
       "</style>\n",
       "<table border=\"1\" class=\"dataframe\">\n",
       "  <thead>\n",
       "    <tr style=\"text-align: right;\">\n",
       "      <th></th>\n",
       "      <th>Unnamed: 0</th>\n",
       "      <th>id</th>\n",
       "      <th>stateId</th>\n",
       "      <th>countyId</th>\n",
       "      <th>cityId</th>\n",
       "      <th>country</th>\n",
       "      <th>datePostedString</th>\n",
       "      <th>is_bankOwned</th>\n",
       "      <th>is_forAuction</th>\n",
       "      <th>event</th>\n",
       "      <th>...</th>\n",
       "      <th>parking</th>\n",
       "      <th>garageSpaces</th>\n",
       "      <th>hasGarage</th>\n",
       "      <th>levels</th>\n",
       "      <th>pool</th>\n",
       "      <th>spa</th>\n",
       "      <th>isNewConstruction</th>\n",
       "      <th>hasPetsAllowed</th>\n",
       "      <th>homeType</th>\n",
       "      <th>county</th>\n",
       "    </tr>\n",
       "  </thead>\n",
       "  <tbody>\n",
       "    <tr>\n",
       "      <th>0</th>\n",
       "      <td>0</td>\n",
       "      <td>31503-110785431</td>\n",
       "      <td>16</td>\n",
       "      <td>17</td>\n",
       "      <td>55064</td>\n",
       "      <td>USA</td>\n",
       "      <td>2021-07-12</td>\n",
       "      <td>0</td>\n",
       "      <td>0</td>\n",
       "      <td>Listed for sale</td>\n",
       "      <td>...</td>\n",
       "      <td>0</td>\n",
       "      <td>0.0</td>\n",
       "      <td>0</td>\n",
       "      <td>0</td>\n",
       "      <td>0</td>\n",
       "      <td>0</td>\n",
       "      <td>0</td>\n",
       "      <td>0</td>\n",
       "      <td>SINGLE_FAMILY</td>\n",
       "      <td>Brantley County</td>\n",
       "    </tr>\n",
       "    <tr>\n",
       "      <th>1</th>\n",
       "      <td>1</td>\n",
       "      <td>31503-76611082</td>\n",
       "      <td>16</td>\n",
       "      <td>18</td>\n",
       "      <td>55064</td>\n",
       "      <td>USA</td>\n",
       "      <td>2021-07-12</td>\n",
       "      <td>0</td>\n",
       "      <td>0</td>\n",
       "      <td>Listed for sale</td>\n",
       "      <td>...</td>\n",
       "      <td>0</td>\n",
       "      <td>0.0</td>\n",
       "      <td>0</td>\n",
       "      <td>0</td>\n",
       "      <td>0</td>\n",
       "      <td>0</td>\n",
       "      <td>0</td>\n",
       "      <td>0</td>\n",
       "      <td>SINGLE_FAMILY</td>\n",
       "      <td>Ware County</td>\n",
       "    </tr>\n",
       "    <tr>\n",
       "      <th>2</th>\n",
       "      <td>2</td>\n",
       "      <td>31503-93126153</td>\n",
       "      <td>16</td>\n",
       "      <td>19</td>\n",
       "      <td>55064</td>\n",
       "      <td>USA</td>\n",
       "      <td>2021-07-10</td>\n",
       "      <td>0</td>\n",
       "      <td>0</td>\n",
       "      <td>Listed for sale</td>\n",
       "      <td>...</td>\n",
       "      <td>1</td>\n",
       "      <td>0.0</td>\n",
       "      <td>0</td>\n",
       "      <td>0</td>\n",
       "      <td>0</td>\n",
       "      <td>0</td>\n",
       "      <td>0</td>\n",
       "      <td>0</td>\n",
       "      <td>SINGLE_FAMILY</td>\n",
       "      <td>Ware County</td>\n",
       "    </tr>\n",
       "    <tr>\n",
       "      <th>3</th>\n",
       "      <td>3</td>\n",
       "      <td>31503-110785598</td>\n",
       "      <td>16</td>\n",
       "      <td>20</td>\n",
       "      <td>55064</td>\n",
       "      <td>USA</td>\n",
       "      <td>2021-07-09</td>\n",
       "      <td>0</td>\n",
       "      <td>0</td>\n",
       "      <td>Listed for sale</td>\n",
       "      <td>...</td>\n",
       "      <td>0</td>\n",
       "      <td>0.0</td>\n",
       "      <td>0</td>\n",
       "      <td>0</td>\n",
       "      <td>0</td>\n",
       "      <td>0</td>\n",
       "      <td>0</td>\n",
       "      <td>0</td>\n",
       "      <td>SINGLE_FAMILY</td>\n",
       "      <td>Brantley County</td>\n",
       "    </tr>\n",
       "    <tr>\n",
       "      <th>4</th>\n",
       "      <td>4</td>\n",
       "      <td>31503-2101070583</td>\n",
       "      <td>16</td>\n",
       "      <td>21</td>\n",
       "      <td>55064</td>\n",
       "      <td>USA</td>\n",
       "      <td>2021-07-06</td>\n",
       "      <td>0</td>\n",
       "      <td>0</td>\n",
       "      <td>Listed for sale</td>\n",
       "      <td>...</td>\n",
       "      <td>0</td>\n",
       "      <td>0.0</td>\n",
       "      <td>0</td>\n",
       "      <td>0</td>\n",
       "      <td>0</td>\n",
       "      <td>0</td>\n",
       "      <td>0</td>\n",
       "      <td>0</td>\n",
       "      <td>LOT</td>\n",
       "      <td>Ware County</td>\n",
       "    </tr>\n",
       "  </tbody>\n",
       "</table>\n",
       "<p>5 rows × 39 columns</p>\n",
       "</div>"
      ],
      "text/plain": [
       "   Unnamed: 0                id  stateId  countyId  cityId country  \\\n",
       "0           0   31503-110785431       16        17   55064     USA   \n",
       "1           1    31503-76611082       16        18   55064     USA   \n",
       "2           2    31503-93126153       16        19   55064     USA   \n",
       "3           3   31503-110785598       16        20   55064     USA   \n",
       "4           4  31503-2101070583       16        21   55064     USA   \n",
       "\n",
       "  datePostedString  is_bankOwned  is_forAuction            event  ...  \\\n",
       "0       2021-07-12             0              0  Listed for sale  ...   \n",
       "1       2021-07-12             0              0  Listed for sale  ...   \n",
       "2       2021-07-10             0              0  Listed for sale  ...   \n",
       "3       2021-07-09             0              0  Listed for sale  ...   \n",
       "4       2021-07-06             0              0  Listed for sale  ...   \n",
       "\n",
       "   parking  garageSpaces  hasGarage levels pool  spa isNewConstruction  \\\n",
       "0        0           0.0          0      0    0    0                 0   \n",
       "1        0           0.0          0      0    0    0                 0   \n",
       "2        1           0.0          0      0    0    0                 0   \n",
       "3        0           0.0          0      0    0    0                 0   \n",
       "4        0           0.0          0      0    0    0                 0   \n",
       "\n",
       "   hasPetsAllowed       homeType           county  \n",
       "0               0  SINGLE_FAMILY  Brantley County  \n",
       "1               0  SINGLE_FAMILY      Ware County  \n",
       "2               0  SINGLE_FAMILY      Ware County  \n",
       "3               0  SINGLE_FAMILY  Brantley County  \n",
       "4               0            LOT      Ware County  \n",
       "\n",
       "[5 rows x 39 columns]"
      ]
     },
     "execution_count": 2,
     "metadata": {},
     "output_type": "execute_result"
    }
   ],
   "source": [
    "\n",
    "data = pd.read_csv(\"archive/RealEstate_Georgia.csv\")\n",
    "data.head()"
   ]
  },
  {
   "cell_type": "markdown",
   "id": "e7d21eee-a93b-472e-8c99-5bb7cb6d700e",
   "metadata": {},
   "source": [
    "- view the dataset's features using pandas `.columns` method"
   ]
  },
  {
   "cell_type": "code",
   "execution_count": 3,
   "id": "d86c9b01-3d36-4aa1-bda7-ef2a7b294cfa",
   "metadata": {},
   "outputs": [
    {
     "data": {
      "text/plain": [
       "Index(['Unnamed: 0', 'id', 'stateId', 'countyId', 'cityId', 'country',\n",
       "       'datePostedString', 'is_bankOwned', 'is_forAuction', 'event', 'time',\n",
       "       'price', 'pricePerSquareFoot', 'city', 'state', 'yearBuilt',\n",
       "       'streetAddress', 'zipcode', 'longitude', 'latitude', 'hasBadGeocode',\n",
       "       'description', 'currency', 'livingArea', 'livingAreaValue',\n",
       "       'lotAreaUnits', 'bathrooms', 'bedrooms', 'buildingArea', 'parking',\n",
       "       'garageSpaces', 'hasGarage', 'levels', 'pool', 'spa',\n",
       "       'isNewConstruction', 'hasPetsAllowed', 'homeType', 'county'],\n",
       "      dtype='object')"
      ]
     },
     "execution_count": 3,
     "metadata": {},
     "output_type": "execute_result"
    }
   ],
   "source": [
    "data.columns"
   ]
  },
  {
   "cell_type": "markdown",
   "id": "ce35f933-df4c-4290-bf2a-a13c8b1c6a43",
   "metadata": {},
   "source": [
    "- The target Variable is `price`"
   ]
  },
  {
   "cell_type": "markdown",
   "id": "f3a287ef-f5d5-4562-aeb3-8ada2269150c",
   "metadata": {},
   "source": [
    "<h4>Data Cleaning</h4>\n",
    "- First remove columns of little value to the target variable, price or just simply select the needed variables."
   ]
  },
  {
   "cell_type": "code",
   "execution_count": 4,
   "id": "893d6ccb-ba53-4d8d-b7be-110085a06693",
   "metadata": {},
   "outputs": [
    {
     "data": {
      "text/plain": [
       "(13804, 39)"
      ]
     },
     "execution_count": 4,
     "metadata": {},
     "output_type": "execute_result"
    }
   ],
   "source": [
    "data.shape"
   ]
  },
  {
   "cell_type": "code",
   "execution_count": 5,
   "id": "b3718dca-ad49-4c34-a2f0-6f54303f50de",
   "metadata": {},
   "outputs": [
    {
     "data": {
      "text/plain": [
       "(13804, 39)"
      ]
     },
     "execution_count": 5,
     "metadata": {},
     "output_type": "execute_result"
    }
   ],
   "source": [
    "trimmed_data = data.copy()\n",
    "trimmed_data.shape"
   ]
  },
  {
   "cell_type": "code",
   "execution_count": 6,
   "id": "95789d4c-cbf1-4274-98dd-dd2eccc0b061",
   "metadata": {},
   "outputs": [
    {
     "data": {
      "text/plain": [
       "'\\ntrimmed_data.drop(columns=[], axis=1,inplace=True)\\n'"
      ]
     },
     "execution_count": 6,
     "metadata": {},
     "output_type": "execute_result"
    }
   ],
   "source": [
    "#using drop method\n",
    "\"\"\"\n",
    "trimmed_data.drop(columns=[], axis=1,inplace=True)\n",
    "\"\"\"\n"
   ]
  },
  {
   "cell_type": "code",
   "execution_count": 7,
   "id": "b5ed7082-1dfa-4a28-b73a-67b405a43a7c",
   "metadata": {},
   "outputs": [
    {
     "data": {
      "text/plain": [
       "Index(['price', 'pricePerSquareFoot', 'city', 'state', 'yearBuilt',\n",
       "       'streetAddress', 'livingArea', 'livingAreaValue', 'lotAreaUnits',\n",
       "       'bathrooms', 'bedrooms', 'buildingArea', 'parking', 'garageSpaces',\n",
       "       'hasGarage', 'pool', 'isNewConstruction', 'hasPetsAllowed', 'county'],\n",
       "      dtype='object')"
      ]
     },
     "execution_count": 7,
     "metadata": {},
     "output_type": "execute_result"
    }
   ],
   "source": [
    "# selecting specific columns\n",
    "trimmed_data = trimmed_data[[\"price\", \"pricePerSquareFoot\", \"city\", \"state\", \"yearBuilt\", \"streetAddress\", \"livingArea\", \"livingAreaValue\", \"lotAreaUnits\", \"bathrooms\", \"bedrooms\", \"buildingArea\", \"parking\", \"garageSpaces\", \"hasGarage\", \"pool\", \"isNewConstruction\", \"hasPetsAllowed\", \"county\"]]\n",
    "trimmed_data.columns"
   ]
  },
  {
   "cell_type": "markdown",
   "id": "990f03c2-4706-460e-8d41-c4ec9800de99",
   "metadata": {},
   "source": [
    "- We've dropped 20 features"
   ]
  },
  {
   "cell_type": "code",
   "execution_count": 8,
   "id": "af7ecde2-ed57-4582-bbec-73c48806e02f",
   "metadata": {},
   "outputs": [
    {
     "data": {
      "text/plain": [
       "((13804, 19), 262276, (13804, 39), 538356)"
      ]
     },
     "execution_count": 8,
     "metadata": {},
     "output_type": "execute_result"
    }
   ],
   "source": [
    "#trimmed data vs original dataset\n",
    "trimmed_data.shape,trimmed_data.size, data.shape, data.size"
   ]
  },
  {
   "cell_type": "markdown",
   "id": "4f1dbdb9-3e2d-4993-b22e-df3ccc44719c",
   "metadata": {},
   "source": [
    "<h4>Simple summary statistics</h4>\n"
   ]
  },
  {
   "cell_type": "code",
   "execution_count": 9,
   "id": "b7d8e21e-2cb9-4e30-993a-c1605d0f88b8",
   "metadata": {},
   "outputs": [
    {
     "name": "stdout",
     "output_type": "stream",
     "text": [
      "<class 'pandas.core.frame.DataFrame'>\n",
      "RangeIndex: 13804 entries, 0 to 13803\n",
      "Data columns (total 19 columns):\n",
      " #   Column              Non-Null Count  Dtype  \n",
      "---  ------              --------------  -----  \n",
      " 0   price               13804 non-null  float64\n",
      " 1   pricePerSquareFoot  13804 non-null  float64\n",
      " 2   city                13804 non-null  object \n",
      " 3   state               13804 non-null  object \n",
      " 4   yearBuilt           13804 non-null  int64  \n",
      " 5   streetAddress       13804 non-null  object \n",
      " 6   livingArea          13804 non-null  float64\n",
      " 7   livingAreaValue     13804 non-null  float64\n",
      " 8   lotAreaUnits        13804 non-null  object \n",
      " 9   bathrooms           13804 non-null  float64\n",
      " 10  bedrooms            13804 non-null  float64\n",
      " 11  buildingArea        13804 non-null  float64\n",
      " 12  parking             13804 non-null  int64  \n",
      " 13  garageSpaces        13804 non-null  float64\n",
      " 14  hasGarage           13804 non-null  int64  \n",
      " 15  pool                13804 non-null  int64  \n",
      " 16  isNewConstruction   13804 non-null  int64  \n",
      " 17  hasPetsAllowed      13804 non-null  int64  \n",
      " 18  county              13804 non-null  object \n",
      "dtypes: float64(8), int64(6), object(5)\n",
      "memory usage: 2.0+ MB\n"
     ]
    }
   ],
   "source": [
    "trimmed_data.info()\n"
   ]
  },
  {
   "cell_type": "code",
   "execution_count": 10,
   "id": "318db248-c7b4-425b-ae31-545e2e5e1039",
   "metadata": {},
   "outputs": [
    {
     "data": {
      "text/html": [
       "<div>\n",
       "<style scoped>\n",
       "    .dataframe tbody tr th:only-of-type {\n",
       "        vertical-align: middle;\n",
       "    }\n",
       "\n",
       "    .dataframe tbody tr th {\n",
       "        vertical-align: top;\n",
       "    }\n",
       "\n",
       "    .dataframe thead th {\n",
       "        text-align: right;\n",
       "    }\n",
       "</style>\n",
       "<table border=\"1\" class=\"dataframe\">\n",
       "  <thead>\n",
       "    <tr style=\"text-align: right;\">\n",
       "      <th></th>\n",
       "      <th>price</th>\n",
       "      <th>pricePerSquareFoot</th>\n",
       "      <th>yearBuilt</th>\n",
       "      <th>livingArea</th>\n",
       "      <th>livingAreaValue</th>\n",
       "      <th>bathrooms</th>\n",
       "      <th>bedrooms</th>\n",
       "      <th>buildingArea</th>\n",
       "      <th>parking</th>\n",
       "      <th>garageSpaces</th>\n",
       "      <th>hasGarage</th>\n",
       "      <th>pool</th>\n",
       "      <th>isNewConstruction</th>\n",
       "      <th>hasPetsAllowed</th>\n",
       "    </tr>\n",
       "  </thead>\n",
       "  <tbody>\n",
       "    <tr>\n",
       "      <th>count</th>\n",
       "      <td>1.380400e+04</td>\n",
       "      <td>13804.000000</td>\n",
       "      <td>13804.000000</td>\n",
       "      <td>1.380400e+04</td>\n",
       "      <td>1.380400e+04</td>\n",
       "      <td>13804.000000</td>\n",
       "      <td>13804.000000</td>\n",
       "      <td>13804.000000</td>\n",
       "      <td>13804.000000</td>\n",
       "      <td>13804.000000</td>\n",
       "      <td>13804.000000</td>\n",
       "      <td>13804.000000</td>\n",
       "      <td>13804.000000</td>\n",
       "      <td>13804.000000</td>\n",
       "    </tr>\n",
       "    <tr>\n",
       "      <th>mean</th>\n",
       "      <td>3.670973e+05</td>\n",
       "      <td>116.781730</td>\n",
       "      <td>1347.435961</td>\n",
       "      <td>1.858872e+03</td>\n",
       "      <td>1.858872e+03</td>\n",
       "      <td>1.878079</td>\n",
       "      <td>2.348667</td>\n",
       "      <td>1176.989930</td>\n",
       "      <td>0.460301</td>\n",
       "      <td>0.488409</td>\n",
       "      <td>0.354825</td>\n",
       "      <td>0.054405</td>\n",
       "      <td>0.045784</td>\n",
       "      <td>0.003839</td>\n",
       "    </tr>\n",
       "    <tr>\n",
       "      <th>std</th>\n",
       "      <td>6.478346e+05</td>\n",
       "      <td>1748.198773</td>\n",
       "      <td>928.113617</td>\n",
       "      <td>4.307442e+04</td>\n",
       "      <td>4.307442e+04</td>\n",
       "      <td>1.886242</td>\n",
       "      <td>2.076541</td>\n",
       "      <td>1813.717292</td>\n",
       "      <td>0.498440</td>\n",
       "      <td>0.929491</td>\n",
       "      <td>0.478477</td>\n",
       "      <td>0.226822</td>\n",
       "      <td>0.209024</td>\n",
       "      <td>0.061847</td>\n",
       "    </tr>\n",
       "    <tr>\n",
       "      <th>min</th>\n",
       "      <td>0.000000e+00</td>\n",
       "      <td>0.000000</td>\n",
       "      <td>0.000000</td>\n",
       "      <td>0.000000e+00</td>\n",
       "      <td>0.000000e+00</td>\n",
       "      <td>0.000000</td>\n",
       "      <td>0.000000</td>\n",
       "      <td>0.000000</td>\n",
       "      <td>0.000000</td>\n",
       "      <td>0.000000</td>\n",
       "      <td>0.000000</td>\n",
       "      <td>0.000000</td>\n",
       "      <td>0.000000</td>\n",
       "      <td>0.000000</td>\n",
       "    </tr>\n",
       "    <tr>\n",
       "      <th>25%</th>\n",
       "      <td>9.500000e+04</td>\n",
       "      <td>0.000000</td>\n",
       "      <td>0.000000</td>\n",
       "      <td>0.000000e+00</td>\n",
       "      <td>0.000000e+00</td>\n",
       "      <td>0.000000</td>\n",
       "      <td>0.000000</td>\n",
       "      <td>0.000000</td>\n",
       "      <td>0.000000</td>\n",
       "      <td>0.000000</td>\n",
       "      <td>0.000000</td>\n",
       "      <td>0.000000</td>\n",
       "      <td>0.000000</td>\n",
       "      <td>0.000000</td>\n",
       "    </tr>\n",
       "    <tr>\n",
       "      <th>50%</th>\n",
       "      <td>2.470000e+05</td>\n",
       "      <td>95.000000</td>\n",
       "      <td>1965.000000</td>\n",
       "      <td>1.280000e+03</td>\n",
       "      <td>1.280000e+03</td>\n",
       "      <td>2.000000</td>\n",
       "      <td>3.000000</td>\n",
       "      <td>0.000000</td>\n",
       "      <td>0.000000</td>\n",
       "      <td>0.000000</td>\n",
       "      <td>0.000000</td>\n",
       "      <td>0.000000</td>\n",
       "      <td>0.000000</td>\n",
       "      <td>0.000000</td>\n",
       "    </tr>\n",
       "    <tr>\n",
       "      <th>75%</th>\n",
       "      <td>4.250000e+05</td>\n",
       "      <td>161.000000</td>\n",
       "      <td>1999.000000</td>\n",
       "      <td>2.299250e+03</td>\n",
       "      <td>2.299250e+03</td>\n",
       "      <td>3.000000</td>\n",
       "      <td>4.000000</td>\n",
       "      <td>1996.250000</td>\n",
       "      <td>1.000000</td>\n",
       "      <td>0.000000</td>\n",
       "      <td>1.000000</td>\n",
       "      <td>0.000000</td>\n",
       "      <td>0.000000</td>\n",
       "      <td>0.000000</td>\n",
       "    </tr>\n",
       "    <tr>\n",
       "      <th>max</th>\n",
       "      <td>3.050400e+07</td>\n",
       "      <td>205000.000000</td>\n",
       "      <td>9999.000000</td>\n",
       "      <td>5.057316e+06</td>\n",
       "      <td>5.057316e+06</td>\n",
       "      <td>89.000000</td>\n",
       "      <td>89.000000</td>\n",
       "      <td>87120.000000</td>\n",
       "      <td>1.000000</td>\n",
       "      <td>8.000000</td>\n",
       "      <td>1.000000</td>\n",
       "      <td>1.000000</td>\n",
       "      <td>1.000000</td>\n",
       "      <td>1.000000</td>\n",
       "    </tr>\n",
       "  </tbody>\n",
       "</table>\n",
       "</div>"
      ],
      "text/plain": [
       "              price  pricePerSquareFoot     yearBuilt    livingArea  \\\n",
       "count  1.380400e+04        13804.000000  13804.000000  1.380400e+04   \n",
       "mean   3.670973e+05          116.781730   1347.435961  1.858872e+03   \n",
       "std    6.478346e+05         1748.198773    928.113617  4.307442e+04   \n",
       "min    0.000000e+00            0.000000      0.000000  0.000000e+00   \n",
       "25%    9.500000e+04            0.000000      0.000000  0.000000e+00   \n",
       "50%    2.470000e+05           95.000000   1965.000000  1.280000e+03   \n",
       "75%    4.250000e+05          161.000000   1999.000000  2.299250e+03   \n",
       "max    3.050400e+07       205000.000000   9999.000000  5.057316e+06   \n",
       "\n",
       "       livingAreaValue     bathrooms      bedrooms  buildingArea  \\\n",
       "count     1.380400e+04  13804.000000  13804.000000  13804.000000   \n",
       "mean      1.858872e+03      1.878079      2.348667   1176.989930   \n",
       "std       4.307442e+04      1.886242      2.076541   1813.717292   \n",
       "min       0.000000e+00      0.000000      0.000000      0.000000   \n",
       "25%       0.000000e+00      0.000000      0.000000      0.000000   \n",
       "50%       1.280000e+03      2.000000      3.000000      0.000000   \n",
       "75%       2.299250e+03      3.000000      4.000000   1996.250000   \n",
       "max       5.057316e+06     89.000000     89.000000  87120.000000   \n",
       "\n",
       "            parking  garageSpaces     hasGarage          pool  \\\n",
       "count  13804.000000  13804.000000  13804.000000  13804.000000   \n",
       "mean       0.460301      0.488409      0.354825      0.054405   \n",
       "std        0.498440      0.929491      0.478477      0.226822   \n",
       "min        0.000000      0.000000      0.000000      0.000000   \n",
       "25%        0.000000      0.000000      0.000000      0.000000   \n",
       "50%        0.000000      0.000000      0.000000      0.000000   \n",
       "75%        1.000000      0.000000      1.000000      0.000000   \n",
       "max        1.000000      8.000000      1.000000      1.000000   \n",
       "\n",
       "       isNewConstruction  hasPetsAllowed  \n",
       "count       13804.000000    13804.000000  \n",
       "mean            0.045784        0.003839  \n",
       "std             0.209024        0.061847  \n",
       "min             0.000000        0.000000  \n",
       "25%             0.000000        0.000000  \n",
       "50%             0.000000        0.000000  \n",
       "75%             0.000000        0.000000  \n",
       "max             1.000000        1.000000  "
      ]
     },
     "execution_count": 10,
     "metadata": {},
     "output_type": "execute_result"
    }
   ],
   "source": [
    "trimmed_data.describe()"
   ]
  },
  {
   "cell_type": "code",
   "execution_count": 11,
   "id": "652fe50f-7275-4f2c-b3e0-889071b70d00",
   "metadata": {},
   "outputs": [],
   "source": [
    "#Missing values"
   ]
  },
  {
   "cell_type": "code",
   "execution_count": null,
   "id": "d6b9172c-a7b7-4db8-913b-980d1c93212e",
   "metadata": {},
   "outputs": [],
   "source": []
  }
 ],
 "metadata": {
  "kernelspec": {
   "display_name": "Python 3 (ipykernel)",
   "language": "python",
   "name": "python3"
  },
  "language_info": {
   "codemirror_mode": {
    "name": "ipython",
    "version": 3
   },
   "file_extension": ".py",
   "mimetype": "text/x-python",
   "name": "python",
   "nbconvert_exporter": "python",
   "pygments_lexer": "ipython3",
   "version": "3.12.2"
  }
 },
 "nbformat": 4,
 "nbformat_minor": 5
}
