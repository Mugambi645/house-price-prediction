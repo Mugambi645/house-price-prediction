








import numpy as np
import pandas as pd
import seaborn as sns
import matplotlib.pyplot as plt
from xgboost import XGBRegressor
from sklearn.metrics import r2_score, mean_squared_error
from sklearn.linear_model import Lasso, Ridge
from sklearn.preprocessing import LabelEncoder, StandardScaler
from sklearn.model_selection import GridSearchCV, train_test_split, RandomizedSearchCV
from sklearn.ensemble import RandomForestRegressor








data = pd.read_csv("archive/RealEstate_Georgia.csv")
data.head()





data.columns








data.shape


trimmed_data = data.copy()
trimmed_data.shape


#using drop method
"""
trimmed_data.drop(columns=[], axis=1,inplace=True)
"""



# selecting specific columns
trimmed_data = trimmed_data[["price", "pricePerSquareFoot", "city", "state", "yearBuilt", "streetAddress", "livingArea", "livingAreaValue", "lotAreaUnits", "bathrooms", "bedrooms", "buildingArea", "parking", "garageSpaces", "hasGarage", "pool", "isNewConstruction", "hasPetsAllowed", "county"]]
trimmed_data.columns





#trimmed data vs original dataset
trimmed_data.shape,trimmed_data.size, data.shape, data.size





trimmed_data.info()



trimmed_data.describe()


#Missing values



